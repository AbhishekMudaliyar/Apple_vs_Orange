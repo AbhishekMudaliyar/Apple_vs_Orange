{
 "cells": [
  {
   "cell_type": "markdown",
   "id": "a6742852-dd4d-428d-b82c-b58f14abf855",
   "metadata": {},
   "source": [
    "# *Importing Libraries*"
   ]
  },
  {
   "cell_type": "code",
   "execution_count": 214,
   "id": "1a46cdca-3858-4d26-92ad-f3c2b2141903",
   "metadata": {},
   "outputs": [],
   "source": [
    "import numpy as np\n",
    "import pandas as pd\n",
    "from sklearn.model_selection import train_test_split\n",
    "from sklearn.neighbors import KNeighborsClassifier\n",
    "from sklearn.metrics import accuracy_score, classification_report, confusion_matrix"
   ]
  },
  {
   "cell_type": "markdown",
   "id": "0a5d691a-3b1f-404c-9c74-62f4c16773a8",
   "metadata": {},
   "source": [
    "# *Loading Dataset*"
   ]
  },
  {
   "cell_type": "code",
   "execution_count": 215,
   "id": "66b4603b-b68e-40f4-a183-f4f78022feef",
   "metadata": {},
   "outputs": [],
   "source": [
    "df = pd.read_csv(r\"C:\\Users\\INTEL\\Downloads\\ML Projects\\apples_and_oranges.csv\")"
   ]
  },
  {
   "cell_type": "markdown",
   "id": "41c03619-b7c5-4c91-b057-301476bec4fa",
   "metadata": {},
   "source": [
    "# *Info about Dataset*"
   ]
  },
  {
   "cell_type": "code",
   "execution_count": 216,
   "id": "c9d17033-99a0-4ffa-aef0-3556764c72db",
   "metadata": {},
   "outputs": [
    {
     "data": {
      "text/html": [
       "<div>\n",
       "<style scoped>\n",
       "    .dataframe tbody tr th:only-of-type {\n",
       "        vertical-align: middle;\n",
       "    }\n",
       "\n",
       "    .dataframe tbody tr th {\n",
       "        vertical-align: top;\n",
       "    }\n",
       "\n",
       "    .dataframe thead th {\n",
       "        text-align: right;\n",
       "    }\n",
       "</style>\n",
       "<table border=\"1\" class=\"dataframe\">\n",
       "  <thead>\n",
       "    <tr style=\"text-align: right;\">\n",
       "      <th></th>\n",
       "      <th>Weight</th>\n",
       "      <th>Size</th>\n",
       "      <th>Class</th>\n",
       "    </tr>\n",
       "  </thead>\n",
       "  <tbody>\n",
       "    <tr>\n",
       "      <th>0</th>\n",
       "      <td>69</td>\n",
       "      <td>4.39</td>\n",
       "      <td>orange</td>\n",
       "    </tr>\n",
       "    <tr>\n",
       "      <th>1</th>\n",
       "      <td>69</td>\n",
       "      <td>4.21</td>\n",
       "      <td>orange</td>\n",
       "    </tr>\n",
       "    <tr>\n",
       "      <th>2</th>\n",
       "      <td>65</td>\n",
       "      <td>4.09</td>\n",
       "      <td>orange</td>\n",
       "    </tr>\n",
       "    <tr>\n",
       "      <th>3</th>\n",
       "      <td>72</td>\n",
       "      <td>5.85</td>\n",
       "      <td>apple</td>\n",
       "    </tr>\n",
       "    <tr>\n",
       "      <th>4</th>\n",
       "      <td>67</td>\n",
       "      <td>4.70</td>\n",
       "      <td>orange</td>\n",
       "    </tr>\n",
       "  </tbody>\n",
       "</table>\n",
       "</div>"
      ],
      "text/plain": [
       "   Weight  Size   Class\n",
       "0      69  4.39  orange\n",
       "1      69  4.21  orange\n",
       "2      65  4.09  orange\n",
       "3      72  5.85   apple\n",
       "4      67  4.70  orange"
      ]
     },
     "execution_count": 216,
     "metadata": {},
     "output_type": "execute_result"
    }
   ],
   "source": [
    "df.head()"
   ]
  },
  {
   "cell_type": "code",
   "execution_count": 217,
   "id": "b3357dd7-1492-4b35-8cbd-17ef9a35261c",
   "metadata": {},
   "outputs": [
    {
     "data": {
      "text/html": [
       "<div>\n",
       "<style scoped>\n",
       "    .dataframe tbody tr th:only-of-type {\n",
       "        vertical-align: middle;\n",
       "    }\n",
       "\n",
       "    .dataframe tbody tr th {\n",
       "        vertical-align: top;\n",
       "    }\n",
       "\n",
       "    .dataframe thead th {\n",
       "        text-align: right;\n",
       "    }\n",
       "</style>\n",
       "<table border=\"1\" class=\"dataframe\">\n",
       "  <thead>\n",
       "    <tr style=\"text-align: right;\">\n",
       "      <th></th>\n",
       "      <th>Weight</th>\n",
       "      <th>Size</th>\n",
       "      <th>Class</th>\n",
       "    </tr>\n",
       "  </thead>\n",
       "  <tbody>\n",
       "    <tr>\n",
       "      <th>35</th>\n",
       "      <td>69</td>\n",
       "      <td>4.11</td>\n",
       "      <td>orange</td>\n",
       "    </tr>\n",
       "    <tr>\n",
       "      <th>36</th>\n",
       "      <td>69</td>\n",
       "      <td>4.76</td>\n",
       "      <td>orange</td>\n",
       "    </tr>\n",
       "    <tr>\n",
       "      <th>37</th>\n",
       "      <td>74</td>\n",
       "      <td>5.48</td>\n",
       "      <td>apple</td>\n",
       "    </tr>\n",
       "    <tr>\n",
       "      <th>38</th>\n",
       "      <td>70</td>\n",
       "      <td>5.59</td>\n",
       "      <td>apple</td>\n",
       "    </tr>\n",
       "    <tr>\n",
       "      <th>39</th>\n",
       "      <td>73</td>\n",
       "      <td>5.03</td>\n",
       "      <td>apple</td>\n",
       "    </tr>\n",
       "  </tbody>\n",
       "</table>\n",
       "</div>"
      ],
      "text/plain": [
       "    Weight  Size   Class\n",
       "35      69  4.11  orange\n",
       "36      69  4.76  orange\n",
       "37      74  5.48   apple\n",
       "38      70  5.59   apple\n",
       "39      73  5.03   apple"
      ]
     },
     "execution_count": 217,
     "metadata": {},
     "output_type": "execute_result"
    }
   ],
   "source": [
    "df.tail()"
   ]
  },
  {
   "cell_type": "code",
   "execution_count": 218,
   "id": "111573b8-ae2b-458f-a487-b7bac70336b6",
   "metadata": {},
   "outputs": [
    {
     "data": {
      "text/plain": [
       "(40, 3)"
      ]
     },
     "execution_count": 218,
     "metadata": {},
     "output_type": "execute_result"
    }
   ],
   "source": [
    "df.shape"
   ]
  },
  {
   "cell_type": "markdown",
   "id": "5eb8b374-16e0-4585-a0bf-06e77e7019b4",
   "metadata": {},
   "source": [
    "# *Data Splitting Into Training & Testing*"
   ]
  },
  {
   "cell_type": "code",
   "execution_count": 219,
   "id": "4532940a-6b33-4206-8794-95e1f06e48e3",
   "metadata": {},
   "outputs": [],
   "source": [
    "X = df.drop(columns=['Class'])\n",
    "y = df['Class']"
   ]
  },
  {
   "cell_type": "code",
   "execution_count": 220,
   "id": "3d263c6b-50c6-4dc4-9734-99bba720dd53",
   "metadata": {},
   "outputs": [],
   "source": [
    "X_train, X_test, y_train, y_test = train_test_split(X, y, test_size=0.2, random_state=42)"
   ]
  },
  {
   "cell_type": "code",
   "execution_count": 221,
   "id": "72d6e221-0e68-43f6-b778-9268b15c9a00",
   "metadata": {},
   "outputs": [
    {
     "name": "stdout",
     "output_type": "stream",
     "text": [
      "Training Dataset: (32, 2)\n",
      "Testing Dataset: (8, 2)\n"
     ]
    }
   ],
   "source": [
    "print(f\"Training Dataset: {X_train.shape}\")\n",
    "print(f\"Testing Dataset: {X_test.shape}\")"
   ]
  },
  {
   "cell_type": "markdown",
   "id": "d461f9b9-2ea4-4b97-a1c4-d321a49adbaa",
   "metadata": {},
   "source": [
    "# *Applying KNN Model*"
   ]
  },
  {
   "cell_type": "markdown",
   "id": "ebe38def-7d6d-45f1-8735-fe25f0040138",
   "metadata": {},
   "source": [
    "## *1) Value of K = 3*"
   ]
  },
  {
   "cell_type": "code",
   "execution_count": 222,
   "id": "15efb400-dce9-4e9f-8605-cc941807d56c",
   "metadata": {},
   "outputs": [],
   "source": [
    "KNN = KNeighborsClassifier(n_neighbors=3) \n",
    "KNN.fit(X_train, y_train)\n",
    "y_pred_test = KNN.predict(X_test)"
   ]
  },
  {
   "cell_type": "code",
   "execution_count": 223,
   "id": "29c0c8ec-04c0-4e4c-a49e-532a46cc84b2",
   "metadata": {},
   "outputs": [],
   "source": [
    "accuracy_test = accuracy_score(y_test, y_pred_test)"
   ]
  },
  {
   "cell_type": "code",
   "execution_count": 224,
   "id": "3c537332-0cdd-4661-9774-ce87a7bc5dfc",
   "metadata": {},
   "outputs": [
    {
     "name": "stdout",
     "output_type": "stream",
     "text": [
      "Testing Accuracy : 1.00\n"
     ]
    }
   ],
   "source": [
    "print(f\"Testing Accuracy : {accuracy_test:.2f}\")"
   ]
  },
  {
   "cell_type": "code",
   "execution_count": 225,
   "id": "04c585fc-6b0a-4e00-8a76-26c4bcc36c1f",
   "metadata": {},
   "outputs": [
    {
     "name": "stdout",
     "output_type": "stream",
     "text": [
      "              precision    recall  f1-score   support\n",
      "\n",
      "       apple       1.00      1.00      1.00         3\n",
      "      orange       1.00      1.00      1.00         5\n",
      "\n",
      "    accuracy                           1.00         8\n",
      "   macro avg       1.00      1.00      1.00         8\n",
      "weighted avg       1.00      1.00      1.00         8\n",
      "\n"
     ]
    }
   ],
   "source": [
    "print(classification_report(y_test, y_pred_test))"
   ]
  },
  {
   "cell_type": "code",
   "execution_count": 226,
   "id": "eb83cbc0-efe5-4111-9387-a13c0dbbea2a",
   "metadata": {},
   "outputs": [
    {
     "name": "stdout",
     "output_type": "stream",
     "text": [
      "[[3 0]\n",
      " [0 5]]\n"
     ]
    }
   ],
   "source": [
    "cm = confusion_matrix(y_test, y_pred_test)\n",
    "print(cm)"
   ]
  },
  {
   "cell_type": "code",
   "execution_count": 239,
   "id": "5a1b913e-f731-45af-a76d-542fec78b11b",
   "metadata": {},
   "outputs": [
    {
     "data": {
      "image/png": "[encoded data removed]",
      "text/plain": [
       "<Figure size 640x480 with 2 Axes>"
      ]
     },
     "metadata": {},
     "output_type": "display_data"
    }
   ],
   "source": [
    "import seaborn as sns\n",
    "import matplotlib.pyplot as plt\n",
    "\n",
    "sns.heatmap(cm, annot=True, fmt='d', cmap='Blues', xticklabels=['Predicted 0', 'Predicted 1'], yticklabels=['Actual 0', 'Actual 1'])\n",
    "plt.xlabel('Predicted')\n",
    "plt.ylabel('Actual')\n",
    "plt.show()"
   ]
  },
  {
   "cell_type": "markdown",
   "id": "9222cda4-c296-462b-9db7-504213b66587",
   "metadata": {},
   "source": [
    "## *2) Value of K = 5*"
   ]
  },
  {
   "cell_type": "code",
   "execution_count": 227,
   "id": "330c260d-3ee4-4506-8151-52d4dec9dc44",
   "metadata": {},
   "outputs": [],
   "source": [
    "KNN2 = KNeighborsClassifier(n_neighbors=5) \n",
    "KNN2.fit(X_train, y_train)\n",
    "y_pred_test2 = KNN.predict(X_test)"
   ]
  },
  {
   "cell_type": "code",
   "execution_count": 228,
   "id": "82d6d8a6-a43a-4cc1-b480-b5be9704ac3f",
   "metadata": {},
   "outputs": [],
   "source": [
    "accuracy_test2 = accuracy_score(y_test, y_pred_test2)"
   ]
  },
  {
   "cell_type": "code",
   "execution_count": 229,
   "id": "754f287b-dc25-481c-a982-2147bd45a18e",
   "metadata": {},
   "outputs": [
    {
     "name": "stdout",
     "output_type": "stream",
     "text": [
      "Testing Accuracy2: 1.00\n"
     ]
    }
   ],
   "source": [
    "print(f\"Testing Accuracy2: {accuracy_test2:.2f}\")"
   ]
  },
  {
   "cell_type": "code",
   "execution_count": 230,
   "id": "86a2ce66-b3b3-4c4d-a058-166871aafe70",
   "metadata": {},
   "outputs": [
    {
     "name": "stdout",
     "output_type": "stream",
     "text": [
      "              precision    recall  f1-score   support\n",
      "\n",
      "       apple       1.00      1.00      1.00         3\n",
      "      orange       1.00      1.00      1.00         5\n",
      "\n",
      "    accuracy                           1.00         8\n",
      "   macro avg       1.00      1.00      1.00         8\n",
      "weighted avg       1.00      1.00      1.00         8\n",
      "\n"
     ]
    }
   ],
   "source": [
    "print(classification_report(y_test, y_pred_test2))"
   ]
  },
  {
   "cell_type": "code",
   "execution_count": 240,
   "id": "5f199eb9-a41b-4230-9491-f86403e29ea6",
   "metadata": {},
   "outputs": [
    {
     "name": "stdout",
     "output_type": "stream",
     "text": [
      "[[3 0]\n",
      " [0 5]]\n"
     ]
    }
   ],
   "source": [
    "cm2 = confusion_matrix(y_test, y_pred_test2)\n",
    "print(cm)"
   ]
  },
  {
   "cell_type": "code",
   "execution_count": 242,
   "id": "50d23231-8d06-4e3b-82fb-87c164b7fd69",
   "metadata": {},
   "outputs": [
    {
     "data": {
      "image/png": "[encoded data removed]",
      "text/plain": [
       "<Figure size 640x480 with 2 Axes>"
      ]
     },
     "metadata": {},
     "output_type": "display_data"
    }
   ],
   "source": [
    "import seaborn as sns\n",
    "import matplotlib.pyplot as plt\n",
    "\n",
    "sns.heatmap(cm2, annot=True, fmt='d', cmap='Blues', xticklabels=['Predicted 0', 'Predicted 1'], yticklabels=['Actual 0', 'Actual 1'])\n",
    "plt.xlabel('Predicted')\n",
    "plt.ylabel('Actual')\n",
    "plt.show()\n"
   ]
  },
  {
   "cell_type": "markdown",
   "id": "8646e60e-2417-4dc8-a3da-fc160d9e1cc5",
   "metadata": {},
   "source": [
    "## *3) Value of K = 7*"
   ]
  },
  {
   "cell_type": "code",
   "execution_count": 232,
   "id": "890918ce-dfd3-4be1-94a9-9ac70f20a674",
   "metadata": {},
   "outputs": [],
   "source": [
    "KNN3 = KNeighborsClassifier(n_neighbors=7) \n",
    "KNN3.fit(X_train, y_train)\n",
    "y_pred_test3 = KNN.predict(X_test)"
   ]
  },
  {
   "cell_type": "code",
   "execution_count": 233,
   "id": "73215ac1-644e-41df-9652-c12727fbc029",
   "metadata": {},
   "outputs": [],
   "source": [
    "accuracy_test3 = accuracy_score(y_test, y_pred_test3)"
   ]
  },
  {
   "cell_type": "code",
   "execution_count": 234,
   "id": "bedfe57e-1ae6-4113-91ff-88ae62a7986f",
   "metadata": {},
   "outputs": [
    {
     "name": "stdout",
     "output_type": "stream",
     "text": [
      "Testing Accuracy3: 1.00\n"
     ]
    }
   ],
   "source": [
    "print(f\"Testing Accuracy3: {accuracy_test3:.2f}\")"
   ]
  },
  {
   "cell_type": "code",
   "execution_count": 235,
   "id": "e3286172-fbad-4518-b45a-3e99354242e2",
   "metadata": {},
   "outputs": [
    {
     "name": "stdout",
     "output_type": "stream",
     "text": [
      "              precision    recall  f1-score   support\n",
      "\n",
      "       apple       1.00      1.00      1.00         3\n",
      "      orange       1.00      1.00      1.00         5\n",
      "\n",
      "    accuracy                           1.00         8\n",
      "   macro avg       1.00      1.00      1.00         8\n",
      "weighted avg       1.00      1.00      1.00         8\n",
      "\n"
     ]
    }
   ],
   "source": [
    "print(classification_report(y_test, y_pred_test3))"
   ]
  },
  {
   "cell_type": "code",
   "execution_count": 241,
   "id": "ce26a820-c12f-42d0-9e9a-0bb20fd86adf",
   "metadata": {},
   "outputs": [
    {
     "name": "stdout",
     "output_type": "stream",
     "text": [
      "[[3 0]\n",
      " [0 5]]\n"
     ]
    }
   ],
   "source": [
    "cm3 = confusion_matrix(y_test, y_pred_test3)\n",
    "print(cm)"
   ]
  },
  {
   "cell_type": "code",
   "execution_count": 243,
   "id": "bce1abe9-ad16-4924-b8a0-714cf232623a",
   "metadata": {},
   "outputs": [
    {
     "data": {
      "image/png": "[encoded data removed]",
      "text/plain": [
       "<Figure size 640x480 with 2 Axes>"
      ]
     },
     "metadata": {},
     "output_type": "display_data"
    }
   ],
   "source": [
    "import seaborn as sns\n",
    "import matplotlib.pyplot as plt\n",
    "\n",
    "sns.heatmap(cm3, annot=True, fmt='d', cmap='Blues', xticklabels=['Predicted 0', 'Predicted 1'], yticklabels=['Actual 0', 'Actual 1'])\n",
    "plt.xlabel('Predicted')\n",
    "plt.ylabel('Actual')\n",
    "plt.show()"
   ]
  },
  {
   "cell_type": "code",
   "execution_count": 237,
   "id": "9eeff2d6-6aa5-44e4-9198-c1eca3f30c6d",
   "metadata": {},
   "outputs": [],
   "source": [
    "new_data_point = np.array([[71, 4.5]]) # Giving New Data Point to KNN Model"
   ]
  },
  {
   "cell_type": "markdown",
   "id": "0e053fca-311e-488d-b836-f68a38dfe908",
   "metadata": {},
   "source": [
    "# *Scatter Plot*"
   ]
  },
  {
   "cell_type": "code",
   "execution_count": 238,
   "id": "575375c1-4a19-4358-b674-9d1a4509ce28",
   "metadata": {},
   "outputs": [
    {
     "data": {
      "image/png": "[encoded data removed]",
      "text/plain": [
       "<Figure size 800x500 with 1 Axes>"
      ]
     },
     "metadata": {},
     "output_type": "display_data"
    }
   ],
   "source": [
    "import matplotlib.pyplot as plt\n",
    "\n",
    "plt.figure(figsize=(8, 5)) # Adjusted figure size for better clarity\n",
    "for label, color in zip([\"orange\", \"apple\"], [\"orange\", \"red\"]):\n",
    "    plt.scatter(df[df[\"Class\"] == label][\"Weight\"], df[df[\"Class\"] == label][\"Size\"], label=label, color=color, edgecolor=\"k\", marker='o', s=100)\n",
    "\n",
    "# Plot the new data point\n",
    "plt.scatter(new_data_point[0][0], new_data_point[0][1], color=\"blue\", label=\"New Data Point\", edgecolor=\"k\", s=100, marker='o')\n",
    "\n",
    "# Add annotations for the new point\n",
    "plt.annotate(f\"\\n({new_data_point[0][0]}, {new_data_point[0][1]})\", (new_data_point[0][0], new_data_point[0][1]), textcoords=\"offset points\", xytext=(10, 10), ha='center', fontsize=10, color='blue')\n",
    "\n",
    "# Title, labels, and grid\n",
    "plt.title(\"KNN Classification\", fontsize=16)\n",
    "plt.xlabel(\"Weight\", fontsize=12)\n",
    "plt.ylabel(\"Size\", fontsize=12)\n",
    "\n",
    "# Set axis limits for better focus\n",
    "plt.xlim(min(df[\"Weight\"]) - 1, max(df[\"Weight\"]) + 1)\n",
    "plt.ylim(min(df[\"Size\"]) - 1, max(df[\"Size\"]) + 1)\n",
    "\n",
    "# Display legend, grid, and plot\n",
    "plt.legend()\n",
    "plt.grid(True)\n",
    "plt.show()\n"
   ]
  },
  {
   "cell_type": "markdown",
   "id": "9bd4c4e7-74d4-45cb-b132-06bd25b900cc",
   "metadata": {},
   "source": [
    "# *Conclusion*"
   ]
  },
  {
   "cell_type": "markdown",
   "id": "b41d7e2c-9d47-4d6a-a40a-23ef850c43c6",
   "metadata": {},
   "source": [
    "### First, We Imported Libraries which we used for our KNN Classification.\n",
    "### Second, We Splitted the Dataset into Training and Testing.\n",
    "### Third, We Applied KNN Model and Also We Changed the Value of K = 3, 5, 7.\n",
    "### Finally, We made Scatter Plot where we can see our New Datapoint is lying in the Graph. We also used Accuracy Score, Classification Report and Confusion Matrix."
   ]
  }
 ],
 "metadata": {
  "kernelspec": {
   "display_name": "Python 3 (ipykernel)",
   "language": "python",
   "name": "python3"
  },
  "language_info": {
   "codemirror_mode": {
    "name": "ipython",
    "version": 3
   },
   "file_extension": ".py",
   "mimetype": "text/x-python",
   "name": "python",
   "nbconvert_exporter": "python",
   "pygments_lexer": "ipython3",
   "version": "3.11.9"
  }
 },
 "nbformat": 4,
 "nbformat_minor": 5
}
